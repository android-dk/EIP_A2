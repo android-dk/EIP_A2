{
 "cells": [
  {
   "cell_type": "code",
   "execution_count": 0,
   "metadata": {
    "colab": {},
    "colab_type": "code",
    "id": "0SJyVpgSxHt4"
   },
   "outputs": [],
   "source": [
    "import numpy as np\n",
    "\n",
    "from keras.models import Sequential\n",
    "from keras.layers import Dense, Dropout, Activation, Flatten, Add, BatchNormalization\n",
    "from keras.layers import Convolution2D, MaxPooling2D, AveragePooling2D\n",
    "from keras.utils import np_utils\n",
    "\n",
    "from keras.datasets import mnist"
   ]
  },
  {
   "cell_type": "code",
   "execution_count": 0,
   "metadata": {
    "colab": {
     "base_uri": "https://localhost:8080/",
     "height": 53
    },
    "colab_type": "code",
    "id": "YlEUplvoxKAT",
    "outputId": "b99cf37e-e077-481f-fa06-788de7d535ed"
   },
   "outputs": [
    {
     "name": "stdout",
     "output_type": "stream",
     "text": [
      "Downloading data from https://s3.amazonaws.com/img-datasets/mnist.npz\n",
      "11493376/11490434 [==============================] - 0s 0us/step\n"
     ]
    }
   ],
   "source": [
    "(X_train, y_train), (X_test, y_test) = mnist.load_data()\n"
   ]
  },
  {
   "cell_type": "code",
   "execution_count": 0,
   "metadata": {
    "colab": {
     "base_uri": "https://localhost:8080/",
     "height": 305
    },
    "colab_type": "code",
    "id": "I6Y9Va-xxMXG",
    "outputId": "d78eda39-e3a9-48cd-92f0-e149c3bc882c"
   },
   "outputs": [
    {
     "name": "stdout",
     "output_type": "stream",
     "text": [
      "(60000, 28, 28)\n"
     ]
    },
    {
     "data": {
      "text/plain": [
       "<matplotlib.image.AxesImage at 0x7f5347083dd8>"
      ]
     },
     "execution_count": 3,
     "metadata": {
      "tags": []
     },
     "output_type": "execute_result"
    },
    {
     "data": {
      "image/png": "[encoded data removed]",
      "text/plain": [
       "<Figure size 432x288 with 1 Axes>"
      ]
     },
     "metadata": {
      "tags": []
     },
     "output_type": "display_data"
    }
   ],
   "source": [
    "print (X_train.shape)\n",
    "from matplotlib import pyplot as plt\n",
    "%matplotlib inline\n",
    "plt.imshow(X_train[1])"
   ]
  },
  {
   "cell_type": "code",
   "execution_count": 0,
   "metadata": {
    "colab": {},
    "colab_type": "code",
    "id": "lxDZxPhhxOgO"
   },
   "outputs": [],
   "source": [
    "X_train = X_train.reshape(X_train.shape[0], 28, 28,1)\n",
    "X_test = X_test.reshape(X_test.shape[0], 28, 28,1)"
   ]
  },
  {
   "cell_type": "code",
   "execution_count": 0,
   "metadata": {
    "colab": {},
    "colab_type": "code",
    "id": "3HzMqbTnxQQW"
   },
   "outputs": [],
   "source": [
    "X_train = X_train.astype('float32')\n",
    "X_test = X_test.astype('float32')\n",
    "X_train /= 255\n",
    "X_test /= 255"
   ]
  },
  {
   "cell_type": "code",
   "execution_count": 0,
   "metadata": {
    "colab": {},
    "colab_type": "code",
    "id": "7LdYiW6ixR9e"
   },
   "outputs": [],
   "source": [
    "y_train[:10]\n",
    "Y_train = np_utils.to_categorical(y_train, 10)\n",
    "Y_test = np_utils.to_categorical(y_test, 10)"
   ]
  },
  {
   "cell_type": "code",
   "execution_count": 0,
   "metadata": {
    "colab": {
     "base_uri": "https://localhost:8080/",
     "height": 197
    },
    "colab_type": "code",
    "id": "rFR0F9j0xVp2",
    "outputId": "ce134a0b-5a39-416a-a6bd-dde0d6570de7"
   },
   "outputs": [
    {
     "data": {
      "text/plain": [
       "array([[0., 0., 0., 0., 0., 1., 0., 0., 0., 0.],\n",
       "       [1., 0., 0., 0., 0., 0., 0., 0., 0., 0.],\n",
       "       [0., 0., 0., 0., 1., 0., 0., 0., 0., 0.],\n",
       "       [0., 1., 0., 0., 0., 0., 0., 0., 0., 0.],\n",
       "       [0., 0., 0., 0., 0., 0., 0., 0., 0., 1.],\n",
       "       [0., 0., 1., 0., 0., 0., 0., 0., 0., 0.],\n",
       "       [0., 1., 0., 0., 0., 0., 0., 0., 0., 0.],\n",
       "       [0., 0., 0., 1., 0., 0., 0., 0., 0., 0.],\n",
       "       [0., 1., 0., 0., 0., 0., 0., 0., 0., 0.],\n",
       "       [0., 0., 0., 0., 1., 0., 0., 0., 0., 0.]], dtype=float32)"
      ]
     },
     "execution_count": 7,
     "metadata": {
      "tags": []
     },
     "output_type": "execute_result"
    }
   ],
   "source": [
    "Y_train[:10]"
   ]
  },
  {
   "cell_type": "code",
   "execution_count": 81,
   "metadata": {
    "colab": {
     "base_uri": "https://localhost:8080/",
     "height": 924
    },
    "colab_type": "code",
    "id": "o0WjZfoDdHkj",
    "outputId": "eba2a0a1-490b-4fdb-c48a-2c46ff9b7faf"
   },
   "outputs": [
    {
     "name": "stdout",
     "output_type": "stream",
     "text": [
      "Model: \"sequential_49\"\n",
      "_________________________________________________________________\n",
      "Layer (type)                 Output Shape              Param #   \n",
      "=================================================================\n",
      "conv2d_254 (Conv2D)          (None, 26, 26, 4)         40        \n",
      "_________________________________________________________________\n",
      "batch_normalization_198 (Bat (None, 26, 26, 4)         16        \n",
      "_________________________________________________________________\n",
      "dropout_198 (Dropout)        (None, 26, 26, 4)         0         \n",
      "_________________________________________________________________\n",
      "conv2d_255 (Conv2D)          (None, 24, 24, 8)         296       \n",
      "_________________________________________________________________\n",
      "batch_normalization_199 (Bat (None, 24, 24, 8)         32        \n",
      "_________________________________________________________________\n",
      "dropout_199 (Dropout)        (None, 24, 24, 8)         0         \n",
      "_________________________________________________________________\n",
      "conv2d_256 (Conv2D)          (None, 22, 22, 16)        1168      \n",
      "_________________________________________________________________\n",
      "batch_normalization_200 (Bat (None, 22, 22, 16)        64        \n",
      "_________________________________________________________________\n",
      "dropout_200 (Dropout)        (None, 22, 22, 16)        0         \n",
      "_________________________________________________________________\n",
      "max_pooling2d_67 (MaxPooling (None, 11, 11, 16)        0         \n",
      "_________________________________________________________________\n",
      "conv2d_257 (Conv2D)          (None, 9, 9, 8)           1160      \n",
      "_________________________________________________________________\n",
      "batch_normalization_201 (Bat (None, 9, 9, 8)           32        \n",
      "_________________________________________________________________\n",
      "dropout_201 (Dropout)        (None, 9, 9, 8)           0         \n",
      "_________________________________________________________________\n",
      "conv2d_258 (Conv2D)          (None, 7, 7, 16)          1168      \n",
      "_________________________________________________________________\n",
      "batch_normalization_202 (Bat (None, 7, 7, 16)          64        \n",
      "_________________________________________________________________\n",
      "dropout_202 (Dropout)        (None, 7, 7, 16)          0         \n",
      "_________________________________________________________________\n",
      "conv2d_259 (Conv2D)          (None, 5, 5, 32)          4640      \n",
      "_________________________________________________________________\n",
      "batch_normalization_203 (Bat (None, 5, 5, 32)          128       \n",
      "_________________________________________________________________\n",
      "dropout_203 (Dropout)        (None, 5, 5, 32)          0         \n",
      "_________________________________________________________________\n",
      "average_pooling2d_8 (Average (None, 1, 1, 32)          0         \n",
      "_________________________________________________________________\n",
      "conv2d_260 (Conv2D)          (None, 1, 1, 10)          330       \n",
      "_________________________________________________________________\n",
      "flatten_30 (Flatten)         (None, 10)                0         \n",
      "_________________________________________________________________\n",
      "activation_20 (Activation)   (None, 10)                0         \n",
      "=================================================================\n",
      "Total params: 9,138\n",
      "Trainable params: 8,970\n",
      "Non-trainable params: 168\n",
      "_________________________________________________________________\n"
     ]
    }
   ],
   "source": [
    "model = Sequential()\n",
    "\n",
    "model.add(Convolution2D(4, (3, 3), activation='relu', input_shape=(28,28,1))) # 26 x 26  x 4\n",
    "model.add(BatchNormalization())\n",
    "model.add(Dropout(0.1))\n",
    "\n",
    "model.add(Convolution2D(8, (3, 3), activation='relu')) # 24x 24 x 8\n",
    "model.add(BatchNormalization())\n",
    "model.add(Dropout(0.1))\n",
    "\n",
    "model.add(Convolution2D(16, (3, 3), activation='relu')) # 22x 22 x 16\n",
    "model.add(BatchNormalization())\n",
    "model.add(Dropout(0.1))\n",
    "\n",
    "model.add(MaxPooling2D(2,2)) # 11 x 11 x 16\n",
    "\n",
    "model.add(Convolution2D(8, (3, 3), activation='relu')) # 9 x 9 x 8\n",
    "model.add(BatchNormalization())\n",
    "model.add(Dropout(0.1))\n",
    "\n",
    "model.add(Convolution2D(16, (3, 3), activation='relu')) # 7 x 7 x 16\n",
    "model.add(BatchNormalization())\n",
    "model.add(Dropout(0.1))\n",
    "\n",
    "model.add(Convolution2D(32, (3, 3), activation='relu')) # 5 x 5 x 32\n",
    "model.add(BatchNormalization())\n",
    "model.add(Dropout(0.1))\n",
    "\n",
    "model.add(AveragePooling2D(5,5)) # 1 x 1 x 32\n",
    "model.add(Convolution2D(10, (1,1), activation = 'relu')) # 1 x 1 x 10\n",
    "\n",
    "model.add(Flatten())\n",
    "model.add(Activation('softmax'))\n",
    "model.summary()"
   ]
  },
  {
   "cell_type": "code",
   "execution_count": 84,
   "metadata": {
    "colab": {
     "base_uri": "https://localhost:8080/",
     "height": 1000
    },
    "colab_type": "code",
    "id": "L2IicGJ4x3Be",
    "outputId": "fdb7752f-77af-414a-cfd8-df2e3145dca9"
   },
   "outputs": [
    {
     "name": "stdout",
     "output_type": "stream",
     "text": [
      "Train on 60000 samples, validate on 10000 samples\n",
      "Epoch 1/20\n",
      "\n",
      "Epoch 00001: LearningRateScheduler setting learning rate to 0.003.\n",
      "60000/60000 [==============================] - 18s 292us/step - loss: 0.0382 - acc: 0.9875 - val_loss: 0.0369 - val_acc: 0.9897\n",
      "Epoch 2/20\n",
      "\n",
      "Epoch 00002: LearningRateScheduler setting learning rate to 0.0022744503.\n",
      "60000/60000 [==============================] - 6s 108us/step - loss: 0.0325 - acc: 0.9893 - val_loss: 0.0313 - val_acc: 0.9910\n",
      "Epoch 3/20\n",
      "\n",
      "Epoch 00003: LearningRateScheduler setting learning rate to 0.0018315018.\n",
      "60000/60000 [==============================] - 6s 108us/step - loss: 0.0293 - acc: 0.9904 - val_loss: 0.0250 - val_acc: 0.9920\n",
      "Epoch 4/20\n",
      "\n",
      "Epoch 00004: LearningRateScheduler setting learning rate to 0.0015329586.\n",
      "60000/60000 [==============================] - 6s 107us/step - loss: 0.0281 - acc: 0.9915 - val_loss: 0.0217 - val_acc: 0.9934\n",
      "Epoch 5/20\n",
      "\n",
      "Epoch 00005: LearningRateScheduler setting learning rate to 0.0013181019.\n",
      "60000/60000 [==============================] - 6s 107us/step - loss: 0.0253 - acc: 0.9921 - val_loss: 0.0202 - val_acc: 0.9935\n",
      "Epoch 6/20\n",
      "\n",
      "Epoch 00006: LearningRateScheduler setting learning rate to 0.0011560694.\n",
      "60000/60000 [==============================] - 6s 107us/step - loss: 0.0227 - acc: 0.9927 - val_loss: 0.0196 - val_acc: 0.9933\n",
      "Epoch 7/20\n",
      "\n",
      "Epoch 00007: LearningRateScheduler setting learning rate to 0.0010295127.\n",
      "60000/60000 [==============================] - 6s 108us/step - loss: 0.0229 - acc: 0.9928 - val_loss: 0.0207 - val_acc: 0.9936\n",
      "Epoch 8/20\n",
      "\n",
      "Epoch 00008: LearningRateScheduler setting learning rate to 0.0009279307.\n",
      "60000/60000 [==============================] - 6s 108us/step - loss: 0.0222 - acc: 0.9926 - val_loss: 0.0192 - val_acc: 0.9942\n",
      "Epoch 9/20\n",
      "\n",
      "Epoch 00009: LearningRateScheduler setting learning rate to 0.0008445946.\n",
      "60000/60000 [==============================] - 6s 107us/step - loss: 0.0212 - acc: 0.9931 - val_loss: 0.0182 - val_acc: 0.9940\n",
      "Epoch 10/20\n",
      "\n",
      "Epoch 00010: LearningRateScheduler setting learning rate to 0.0007749935.\n",
      "60000/60000 [==============================] - 7s 109us/step - loss: 0.0199 - acc: 0.9935 - val_loss: 0.0211 - val_acc: 0.9940\n",
      "Epoch 11/20\n",
      "\n",
      "Epoch 00011: LearningRateScheduler setting learning rate to 0.0007159905.\n",
      "60000/60000 [==============================] - 6s 107us/step - loss: 0.0194 - acc: 0.9938 - val_loss: 0.0210 - val_acc: 0.9936\n",
      "Epoch 12/20\n",
      "\n",
      "Epoch 00012: LearningRateScheduler setting learning rate to 0.000665336.\n",
      "60000/60000 [==============================] - 6s 107us/step - loss: 0.0201 - acc: 0.9935 - val_loss: 0.0204 - val_acc: 0.9932\n",
      "Epoch 13/20\n",
      "\n",
      "Epoch 00013: LearningRateScheduler setting learning rate to 0.0006213753.\n",
      "60000/60000 [==============================] - 6s 107us/step - loss: 0.0193 - acc: 0.9935 - val_loss: 0.0186 - val_acc: 0.9947\n",
      "Epoch 14/20\n",
      "\n",
      "Epoch 00014: LearningRateScheduler setting learning rate to 0.0005828638.\n",
      "60000/60000 [==============================] - 6s 107us/step - loss: 0.0189 - acc: 0.9941 - val_loss: 0.0182 - val_acc: 0.9945\n",
      "Epoch 15/20\n",
      "\n",
      "Epoch 00015: LearningRateScheduler setting learning rate to 0.0005488474.\n",
      "60000/60000 [==============================] - 6s 106us/step - loss: 0.0192 - acc: 0.9939 - val_loss: 0.0185 - val_acc: 0.9947\n",
      "Epoch 16/20\n",
      "\n",
      "Epoch 00016: LearningRateScheduler setting learning rate to 0.0005185825.\n",
      "60000/60000 [==============================] - 6s 106us/step - loss: 0.0179 - acc: 0.9943 - val_loss: 0.0191 - val_acc: 0.9942\n",
      "Epoch 17/20\n",
      "\n",
      "Epoch 00017: LearningRateScheduler setting learning rate to 0.000491481.\n",
      "60000/60000 [==============================] - 6s 105us/step - loss: 0.0178 - acc: 0.9944 - val_loss: 0.0185 - val_acc: 0.9942\n",
      "Epoch 18/20\n",
      "\n",
      "Epoch 00018: LearningRateScheduler setting learning rate to 0.0004670715.\n",
      "60000/60000 [==============================] - 6s 105us/step - loss: 0.0178 - acc: 0.9947 - val_loss: 0.0183 - val_acc: 0.9945\n",
      "Epoch 19/20\n",
      "\n",
      "Epoch 00019: LearningRateScheduler setting learning rate to 0.0004449718.\n",
      "60000/60000 [==============================] - 7s 109us/step - loss: 0.0167 - acc: 0.9948 - val_loss: 0.0181 - val_acc: 0.9948\n",
      "Epoch 20/20\n",
      "\n",
      "Epoch 00020: LearningRateScheduler setting learning rate to 0.000424869.\n",
      "60000/60000 [==============================] - 7s 109us/step - loss: 0.0168 - acc: 0.9946 - val_loss: 0.0187 - val_acc: 0.9940\n"
     ]
    },
    {
     "data": {
      "text/plain": [
       "<keras.callbacks.History at 0x7fa8d84c2f98>"
      ]
     },
     "execution_count": 84,
     "metadata": {
      "tags": []
     },
     "output_type": "execute_result"
    }
   ],
   "source": [
    "from keras.optimizers import Adam\n",
    "from keras.callbacks import LearningRateScheduler\n",
    "\n",
    "model.compile(loss='categorical_crossentropy', optimizer=Adam(lr=0.003), metrics=['accuracy'])\n",
    "\n",
    "model.fit(X_train, Y_train, batch_size=128, epochs=20, verbose=1, validation_data=(X_test, Y_test), callbacks=[LearningRateScheduler(lambda epoch: round(0.003 * 1/(1 + 0.319 * epoch), 10), verbose=1)])"
   ]
  },
  {
   "cell_type": "code",
   "execution_count": 85,
   "metadata": {
    "colab": {
     "base_uri": "https://localhost:8080/",
     "height": 34
    },
    "colab_type": "code",
    "id": "WLxlW9ufyQiO",
    "outputId": "b03f12ae-b81b-4d2d-e0f0-546e9b9c53c2"
   },
   "outputs": [
    {
     "name": "stdout",
     "output_type": "stream",
     "text": [
      "[0.018715105919671623, 0.994]\n"
     ]
    }
   ],
   "source": [
    "\n",
    "score = model.evaluate(X_test, Y_test, verbose=0)\n",
    "print(score)"
   ]
  },
  {
   "cell_type": "code",
   "execution_count": 0,
   "metadata": {
    "colab": {},
    "colab_type": "code",
    "id": "m2qDl21ozBnW"
   },
   "outputs": [],
   "source": []
  }
 ],
 "metadata": {
  "accelerator": "GPU",
  "colab": {
   "collapsed_sections": [],
   "name": "EIGHTH.ipynb",
   "provenance": []
  },
  "kernelspec": {
   "display_name": "Python 3",
   "language": "python",
   "name": "python3"
  },
  "language_info": {
   "codemirror_mode": {
    "name": "ipython",
    "version": 3
   },
   "file_extension": ".py",
   "mimetype": "text/x-python",
   "name": "python",
   "nbconvert_exporter": "python",
   "pygments_lexer": "ipython3",
   "version": "3.7.3"
  }
 },
 "nbformat": 4,
 "nbformat_minor": 1
}
